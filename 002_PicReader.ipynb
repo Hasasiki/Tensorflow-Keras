{
 "cells": [
  {
   "cell_type": "code",
   "execution_count": null,
   "metadata": {},
   "outputs": [],
   "source": [
    "import cv2\n",
    "#1完成文件读取 2封装格式解析 3数据解码 4数据加载\n",
    "img = cv2.imread('image0.jpg',1)#图片的读取，第一个参数描绘图片名称，第二个参数是读取图片类型，0时为灰度图片，1时为彩图\n",
    "cv2.imshow('image',img)#第一个参数窗体名称，第二个图片内容\n",
    "# jpg png 1 文件头（文件数据的解码信息） 2 文件数据\n",
    "cv2.waitKey(0)"
   ]
  },
  {
   "cell_type": "code",
   "execution_count": 2,
   "metadata": {},
   "outputs": [
    {
     "data": {
      "text/plain": [
       "True"
      ]
     },
     "execution_count": 2,
     "metadata": {},
     "output_type": "execute_result"
    }
   ],
   "source": [
    "import cv2\n",
    "img = cv2.imread('image0.jpg',1)\n",
    "cv2.imwrite('image1.jpg',img)#1 name 2 data"
   ]
  },
  {
   "cell_type": "code",
   "execution_count": null,
   "metadata": {},
   "outputs": [],
   "source": []
  }
 ],
 "metadata": {
  "kernelspec": {
   "display_name": "Python 3",
   "language": "python",
   "name": "python3"
  }
 },
 "nbformat": 4,
 "nbformat_minor": 2
}
