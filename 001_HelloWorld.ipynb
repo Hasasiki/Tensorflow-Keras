{
 "cells": [
  {
   "cell_type": "code",
   "execution_count": 6,
   "metadata": {},
   "outputs": [
    {
     "name": "stdout",
     "output_type": "stream",
     "text": [
      "info: tf.Tensor(b'hello,world', shape=(), dtype=string)\n",
      "type of info: <class 'tensorflow.python.framework.ops.EagerTensor'>\n",
      "b'hello,world'\n",
      "type of info.numpy() <class 'bytes'>\n",
      "\n",
      "\n",
      "\n",
      "a: tf.Tensor(10, shape=(), dtype=int32)\n",
      "type of a: <class 'tensorflow.python.framework.ops.EagerTensor'>\n",
      "10\n",
      "type of a.numpy() <class 'numpy.int32'>\n",
      "b: tf.Tensor(20, shape=(), dtype=int32)\n",
      "c: tf.Tensor(30, shape=(), dtype=int32)\n"
     ]
    }
   ],
   "source": [
    "from __future__ import print_function,division\n",
    "import tensorflow as tf\n",
    "\n",
    "#define the graph\n",
    "info=tf.constant(\"hello,world\")\n",
    "a=tf.constant(10)\n",
    "b=tf.constant(20)\n",
    "c=tf.add(a,b)\n",
    "\n",
    "print(\"info:\",info)\n",
    "print(\"type of info:\",type(info))\n",
    "print(info.numpy())\n",
    "print(\"type of info.numpy()\",type(info.numpy()))\n",
    "print(\"\\n\\n\")\n",
    "\n",
    "print(\"a:\",a)\n",
    "print(\"type of a:\",type(a))\n",
    "print(a.numpy())\n",
    "print(\"type of a.numpy()\",type(a.numpy()))\n",
    "\n",
    "\n",
    "print(\"b:\",b)\n",
    "print(\"c:\",c)\n"
   ]
  },
  {
   "cell_type": "code",
   "execution_count": 4,
   "metadata": {},
   "outputs": [
    {
     "name": "stdout",
     "output_type": "stream",
     "text": [
      "hello opencv\n"
     ]
    }
   ],
   "source": [
    "import cv2\n",
    "print('hello opencv')"
   ]
  },
  {
   "cell_type": "code",
   "execution_count": null,
   "metadata": {},
   "outputs": [],
   "source": []
  }
 ],
 "metadata": {
  "kernelspec": {
   "display_name": "Python 3",
   "language": "python",
   "name": "python3"
  },
  "language_info": {
   "codemirror_mode": {
    "name": "ipython",
    "version": 3
   },
   "file_extension": ".py",
   "mimetype": "text/x-python",
   "name": "python",
   "nbconvert_exporter": "python",
   "pygments_lexer": "ipython3",
   "version": "3.7.6"
  }
 },
 "nbformat": 4,
 "nbformat_minor": 2
}
