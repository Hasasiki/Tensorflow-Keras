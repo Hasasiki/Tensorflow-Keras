{
 "cells": [
  {
   "cell_type": "code",
   "execution_count": null,
   "metadata": {},
   "outputs": [],
   "source": [
    "#用keras训练模型"
   ]
  },
  {
   "cell_type": "code",
   "execution_count": 1,
   "metadata": {},
   "outputs": [],
   "source": [
    "import tensorflow as tf\n",
    "import pandas as pd"
   ]
  },
  {
   "cell_type": "code",
   "execution_count": 2,
   "metadata": {},
   "outputs": [
    {
     "name": "stdout",
     "output_type": "stream",
     "text": [
      "Tensorflow Version: 2.0.0\n"
     ]
    }
   ],
   "source": [
    "print('Tensorflow Version: {}'.format(tf.__version__))"
   ]
  },
  {
   "cell_type": "code",
   "execution_count": null,
   "metadata": {},
   "outputs": [],
   "source": [
    "#单变量线性回归算法 f(x) = ax + b\n",
    "# 成本函数与损失函数\n",
    "#   优化的目标（y代表实际的收入）：\n",
    "#   找到合适的a和b，使得(f(x) - y)^2/n越小越好\n",
    "#梯度下降算法,对损失函数的优化\n",
    "#梯度下降算法是一种致力于找到函数极值点的算法\n",
    "#所谓’学习‘，便是改进模型参数，以便通过大量训练步骤将损失最小化。\n",
    "\n",
    "#随机初始化 -> 排除局部极值点"
   ]
  },
  {
   "cell_type": "code",
   "execution_count": 3,
   "metadata": {},
   "outputs": [
    {
     "name": "stdout",
     "output_type": "stream",
     "text": [
      "Model: \"sequential\"\n",
      "_________________________________________________________________\n",
      "Layer (type)                 Output Shape              Param #   \n",
      "=================================================================\n",
      "dense (Dense)                (None, 1)                 2         \n",
      "=================================================================\n",
      "Total params: 2\n",
      "Trainable params: 2\n",
      "Non-trainable params: 0\n",
      "_________________________________________________________________\n"
     ]
    }
   ],
   "source": [
    "#Sequential 顺序模型：有一个输入与一个输出，是顺序搭建的\n",
    "model = tf.keras.Sequential()\n",
    "#添加层\n",
    "#最常用dense层 （建立f(x)=ax + b）（ 1【输出维度为1】， input_shape()输入数据维度   “，”代表元组）\n",
    "model.add(tf.keras.layers.Dense(1, input_shape=(1,)))\n",
    "\n",
    "model.summary()"
   ]
  },
  {
   "cell_type": "code",
   "execution_count": null,
   "metadata": {},
   "outputs": [],
   "source": [
    "#None  第一个维度代表样本的个数（不需要考虑） Param【参数】 ax + b 输出预测值"
   ]
  },
  {
   "cell_type": "code",
   "execution_count": null,
   "metadata": {},
   "outputs": [],
   "source": [
    "model.compile(optimizer='adam',loss='mse')\n",
    "#optimizer[优化方法：梯度下降算法]计算梯度，沿着梯度下降的方向，改变变量的值，求变量最小值\n",
    "#loss[损失函数]使用均方差 mse: min squer error"
   ]
  },
  {
   "cell_type": "code",
   "execution_count": 4,
   "metadata": {},
   "outputs": [
    {
     "ename": "SyntaxError",
     "evalue": "invalid character in identifier (<ipython-input-4-e4fecf326b76>, line 2)",
     "output_type": "error",
     "traceback": [
      "\u001b[0;36m  File \u001b[0;32m\"<ipython-input-4-e4fecf326b76>\"\u001b[0;36m, line \u001b[0;32m2\u001b[0m\n\u001b[0;31m    history = model.fit(x,y，epochs=5000)#不断的逼近x,y的最小值,epochs[对所有数据训练的次数]\u001b[0m\n\u001b[0m                                 ^\u001b[0m\n\u001b[0;31mSyntaxError\u001b[0m\u001b[0;31m:\u001b[0m invalid character in identifier\n"
     ]
    }
   ],
   "source": [
    "#训练过程\n",
    "history = model.fit(x,y，epochs=5000)#不断的逼近x,y的最小值,epochs[对所有数据训练的次数]"
   ]
  },
  {
   "cell_type": "code",
   "execution_count": null,
   "metadata": {},
   "outputs": [],
   "source": [
    "#预测\n",
    "model.predict(pd.Series([20]))"
   ]
  }
 ],
 "metadata": {
  "kernelspec": {
   "display_name": "Python 3",
   "language": "python",
   "name": "python3"
  },
  "language_info": {
   "codemirror_mode": {
    "name": "ipython",
    "version": 3
   },
   "file_extension": ".py",
   "mimetype": "text/x-python",
   "name": "python",
   "nbconvert_exporter": "python",
   "pygments_lexer": "ipython3",
   "version": "3.7.6"
  }
 },
 "nbformat": 4,
 "nbformat_minor": 2
}
