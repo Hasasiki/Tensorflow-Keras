{
 "cells": [
  {
   "cell_type": "markdown",
   "metadata": {
    "toc": true
   },
   "source": [
    "<h1>Table of Contents<span class=\"tocSkip\"></span></h1>\n",
    "<div class=\"toc\"><ul class=\"toc-item\"><li><span><a href=\"#数据归一化\" data-toc-modified-id=\"数据归一化-1\"><span class=\"toc-item-num\">1&nbsp;&nbsp;</span>数据归一化</a></span></li><li><span><a href=\"#批归一化实现\" data-toc-modified-id=\"批归一化实现-2\"><span class=\"toc-item-num\">2&nbsp;&nbsp;</span>批归一化实现</a></span></li><li><span><a href=\"#回调函数\" data-toc-modified-id=\"回调函数-3\"><span class=\"toc-item-num\">3&nbsp;&nbsp;</span>回调函数</a></span></li></ul></div>"
   ]
  },
  {
   "cell_type": "code",
   "execution_count": 8,
   "metadata": {
    "code_folding": []
   },
   "outputs": [],
   "source": [
    "import matplotlib as mpl\n",
    "import matplotlib.pyplot as plt\n",
    "%matplotlib inline\n",
    "import numpy as np\n",
    "import sklearn\n",
    "import pandas as pd\n",
    "import os\n",
    "import sys\n",
    "import time\n",
    "import tensorflow as tf\n",
    "\n",
    "from tensorflow import keras"
   ]
  },
  {
   "cell_type": "code",
   "execution_count": 9,
   "metadata": {},
   "outputs": [
    {
     "name": "stdout",
     "output_type": "stream",
     "text": [
      "(5000, 28, 28) (5000,)\n",
      "(55000, 28, 28) (55000,)\n",
      "(10000, 28, 28) (10000,)\n"
     ]
    }
   ],
   "source": [
    "fashion_mnist = keras.datasets.fashion_mnist\n",
    "(x_train_all, y_train_all), (x_test, y_test) = fashion_mnist.load_data()\n",
    "x_valid, x_train = x_train_all[:5000], x_train_all[5000:]\n",
    "y_valid, y_train = y_train_all[:5000], y_train_all[5000:]\n",
    "\n",
    "print(x_valid.shape, y_valid.shape)\n",
    "print(x_train.shape, y_train.shape)\n",
    "print(x_test.shape, y_test.shape)"
   ]
  },
  {
   "cell_type": "markdown",
   "metadata": {},
   "source": [
    "### 数据归一化"
   ]
  },
  {
   "cell_type": "code",
   "execution_count": 10,
   "metadata": {},
   "outputs": [],
   "source": [
    "#x = (x - μ) / std(方差) 符合均值是零，方差是1的正态分布\n",
    "from sklearn.preprocessing import StandardScaler\n",
    "\n",
    "scaler = StandardScaler()\n",
    "#x_train: [None, 28, 28] -> [None, 784]\n",
    "x_train_scaled = scaler.fit_transform(\n",
    "    x_train.astype(np.float32).reshape(-1,1)).reshape(-1,28,28)\n",
    "x_valid_scaled = scaler.transform(\n",
    "    x_valid.astype(np.float32).reshape(-1,1)).reshape(-1,28,28)\n",
    "x_test_scaled = scaler.transform(\n",
    "    x_test.astype(np.float32).reshape(-1,1)).reshape(-1,28,28)"
   ]
  },
  {
   "cell_type": "markdown",
   "metadata": {},
   "source": [
    "### 批归一化实现"
   ]
  },
  {
   "cell_type": "code",
   "execution_count": 11,
   "metadata": {},
   "outputs": [],
   "source": [
    "#tf.keras.models.Sequential()\n",
    "\n",
    "model = keras.models.Sequential()\n",
    "model.add(keras.layers.Flatten(input_shape=[28, 28]))\n",
    "for _ in range(20):\n",
    "    model.add(keras.layers.Dense(100, activation=\"relu\"))\n",
    "    #批归一化(放在激活函数后)\n",
    "    model.add(keras.layers.BatchNormalization())\n",
    "    \"\"\"\n",
    "    在激活函数前\n",
    "    model.add(keras.layers.Dense(100))\n",
    "    model.add(keras.layer.BatchNormalization())\n",
    "    model.add(keras.layers.Activiation('relu'))\n",
    "    \"\"\"\n",
    "    \n",
    "model.add(keras.layers.Dense(10,activation=\"softmax\"))\n",
    "\n",
    "\n",
    "#relu: y = max（0，x)\n",
    "#softmax：将向量变成概率分布 x = [x1, x2, x3]\n",
    "#    y = [e^x1/sum, e^x2/sum, e^x3/sum], sum = e^X1 + e^x2 + e^x3\n",
    "#reason for sparse: y->index. y->one)hot->[]\n",
    "model.compile(loss = \"sparse_categorical_crossentropy\",\n",
    "              optimizer = \"sgd\",\n",
    "              metrics = [\"accuracy\"])"
   ]
  },
  {
   "cell_type": "code",
   "execution_count": 12,
   "metadata": {},
   "outputs": [
    {
     "data": {
      "text/plain": [
       "[<tensorflow.python.keras.layers.core.Flatten at 0x1a4c049dd0>,\n",
       " <tensorflow.python.keras.layers.core.Dense at 0x1a4c0498d0>,\n",
       " <tensorflow.python.keras.layers.normalization_v2.BatchNormalization at 0x1a50394350>,\n",
       " <tensorflow.python.keras.layers.core.Dense at 0x1a50486690>,\n",
       " <tensorflow.python.keras.layers.normalization_v2.BatchNormalization at 0x1a531e8bd0>,\n",
       " <tensorflow.python.keras.layers.core.Dense at 0x1a531e8d50>,\n",
       " <tensorflow.python.keras.layers.normalization_v2.BatchNormalization at 0x1a5321e250>,\n",
       " <tensorflow.python.keras.layers.core.Dense at 0x1a53282d90>,\n",
       " <tensorflow.python.keras.layers.normalization_v2.BatchNormalization at 0x1a53317c50>,\n",
       " <tensorflow.python.keras.layers.core.Dense at 0x1a53333cd0>,\n",
       " <tensorflow.python.keras.layers.normalization_v2.BatchNormalization at 0x1a53355550>,\n",
       " <tensorflow.python.keras.layers.core.Dense at 0x1a533c5cd0>,\n",
       " <tensorflow.python.keras.layers.normalization_v2.BatchNormalization at 0x1a53444590>,\n",
       " <tensorflow.python.keras.layers.core.Dense at 0x1a53477a90>,\n",
       " <tensorflow.python.keras.layers.normalization_v2.BatchNormalization at 0x1a534da2d0>,\n",
       " <tensorflow.python.keras.layers.core.Dense at 0x1a5345b410>,\n",
       " <tensorflow.python.keras.layers.normalization_v2.BatchNormalization at 0x1a535839d0>,\n",
       " <tensorflow.python.keras.layers.core.Dense at 0x1a53489390>,\n",
       " <tensorflow.python.keras.layers.normalization_v2.BatchNormalization at 0x1a53635050>,\n",
       " <tensorflow.python.keras.layers.core.Dense at 0x1a5351c710>,\n",
       " <tensorflow.python.keras.layers.normalization_v2.BatchNormalization at 0x1a53650a10>,\n",
       " <tensorflow.python.keras.layers.core.Dense at 0x1a5366c390>,\n",
       " <tensorflow.python.keras.layers.normalization_v2.BatchNormalization at 0x1a53766f10>,\n",
       " <tensorflow.python.keras.layers.core.Dense at 0x1a5379d750>,\n",
       " <tensorflow.python.keras.layers.normalization_v2.BatchNormalization at 0x1a537b0550>,\n",
       " <tensorflow.python.keras.layers.core.Dense at 0x1a53703dd0>,\n",
       " <tensorflow.python.keras.layers.normalization_v2.BatchNormalization at 0x1a570e1350>,\n",
       " <tensorflow.python.keras.layers.core.Dense at 0x1a537fbb90>,\n",
       " <tensorflow.python.keras.layers.normalization_v2.BatchNormalization at 0x1a5715fb90>,\n",
       " <tensorflow.python.keras.layers.core.Dense at 0x1a570c8fd0>,\n",
       " <tensorflow.python.keras.layers.normalization_v2.BatchNormalization at 0x1a571a4c10>,\n",
       " <tensorflow.python.keras.layers.core.Dense at 0x1a57175f90>,\n",
       " <tensorflow.python.keras.layers.normalization_v2.BatchNormalization at 0x1a57238850>,\n",
       " <tensorflow.python.keras.layers.core.Dense at 0x1a572e7050>,\n",
       " <tensorflow.python.keras.layers.normalization_v2.BatchNormalization at 0x1a4b7340d0>,\n",
       " <tensorflow.python.keras.layers.core.Dense at 0x1a4ffbbe10>,\n",
       " <tensorflow.python.keras.layers.normalization_v2.BatchNormalization at 0x1a5734edd0>,\n",
       " <tensorflow.python.keras.layers.core.Dense at 0x1a572d0e90>,\n",
       " <tensorflow.python.keras.layers.normalization_v2.BatchNormalization at 0x1a5744c090>,\n",
       " <tensorflow.python.keras.layers.core.Dense at 0x1a574a3050>,\n",
       " <tensorflow.python.keras.layers.normalization_v2.BatchNormalization at 0x1a573e5710>,\n",
       " <tensorflow.python.keras.layers.core.Dense at 0x1a4c0496d0>]"
      ]
     },
     "execution_count": 12,
     "metadata": {},
     "output_type": "execute_result"
    }
   ],
   "source": [
    "model.layers#查看有多少层"
   ]
  },
  {
   "cell_type": "code",
   "execution_count": 13,
   "metadata": {},
   "outputs": [
    {
     "name": "stdout",
     "output_type": "stream",
     "text": [
      "Model: \"sequential_3\"\n",
      "_________________________________________________________________\n",
      "Layer (type)                 Output Shape              Param #   \n",
      "=================================================================\n",
      "flatten_3 (Flatten)          (None, 784)               0         \n",
      "_________________________________________________________________\n",
      "dense_43 (Dense)             (None, 100)               78500     \n",
      "_________________________________________________________________\n",
      "batch_normalization_40 (Batc (None, 100)               400       \n",
      "_________________________________________________________________\n",
      "dense_44 (Dense)             (None, 100)               10100     \n",
      "_________________________________________________________________\n",
      "batch_normalization_41 (Batc (None, 100)               400       \n",
      "_________________________________________________________________\n",
      "dense_45 (Dense)             (None, 100)               10100     \n",
      "_________________________________________________________________\n",
      "batch_normalization_42 (Batc (None, 100)               400       \n",
      "_________________________________________________________________\n",
      "dense_46 (Dense)             (None, 100)               10100     \n",
      "_________________________________________________________________\n",
      "batch_normalization_43 (Batc (None, 100)               400       \n",
      "_________________________________________________________________\n",
      "dense_47 (Dense)             (None, 100)               10100     \n",
      "_________________________________________________________________\n",
      "batch_normalization_44 (Batc (None, 100)               400       \n",
      "_________________________________________________________________\n",
      "dense_48 (Dense)             (None, 100)               10100     \n",
      "_________________________________________________________________\n",
      "batch_normalization_45 (Batc (None, 100)               400       \n",
      "_________________________________________________________________\n",
      "dense_49 (Dense)             (None, 100)               10100     \n",
      "_________________________________________________________________\n",
      "batch_normalization_46 (Batc (None, 100)               400       \n",
      "_________________________________________________________________\n",
      "dense_50 (Dense)             (None, 100)               10100     \n",
      "_________________________________________________________________\n",
      "batch_normalization_47 (Batc (None, 100)               400       \n",
      "_________________________________________________________________\n",
      "dense_51 (Dense)             (None, 100)               10100     \n",
      "_________________________________________________________________\n",
      "batch_normalization_48 (Batc (None, 100)               400       \n",
      "_________________________________________________________________\n",
      "dense_52 (Dense)             (None, 100)               10100     \n",
      "_________________________________________________________________\n",
      "batch_normalization_49 (Batc (None, 100)               400       \n",
      "_________________________________________________________________\n",
      "dense_53 (Dense)             (None, 100)               10100     \n",
      "_________________________________________________________________\n",
      "batch_normalization_50 (Batc (None, 100)               400       \n",
      "_________________________________________________________________\n",
      "dense_54 (Dense)             (None, 100)               10100     \n",
      "_________________________________________________________________\n",
      "batch_normalization_51 (Batc (None, 100)               400       \n",
      "_________________________________________________________________\n",
      "dense_55 (Dense)             (None, 100)               10100     \n",
      "_________________________________________________________________\n",
      "batch_normalization_52 (Batc (None, 100)               400       \n",
      "_________________________________________________________________\n",
      "dense_56 (Dense)             (None, 100)               10100     \n",
      "_________________________________________________________________\n",
      "batch_normalization_53 (Batc (None, 100)               400       \n",
      "_________________________________________________________________\n",
      "dense_57 (Dense)             (None, 100)               10100     \n",
      "_________________________________________________________________\n",
      "batch_normalization_54 (Batc (None, 100)               400       \n",
      "_________________________________________________________________\n",
      "dense_58 (Dense)             (None, 100)               10100     \n",
      "_________________________________________________________________\n",
      "batch_normalization_55 (Batc (None, 100)               400       \n",
      "_________________________________________________________________\n",
      "dense_59 (Dense)             (None, 100)               10100     \n",
      "_________________________________________________________________\n",
      "batch_normalization_56 (Batc (None, 100)               400       \n",
      "_________________________________________________________________\n",
      "dense_60 (Dense)             (None, 100)               10100     \n",
      "_________________________________________________________________\n",
      "batch_normalization_57 (Batc (None, 100)               400       \n",
      "_________________________________________________________________\n",
      "dense_61 (Dense)             (None, 100)               10100     \n",
      "_________________________________________________________________\n",
      "batch_normalization_58 (Batc (None, 100)               400       \n",
      "_________________________________________________________________\n",
      "dense_62 (Dense)             (None, 100)               10100     \n",
      "_________________________________________________________________\n",
      "batch_normalization_59 (Batc (None, 100)               400       \n",
      "_________________________________________________________________\n",
      "dense_63 (Dense)             (None, 10)                1010      \n",
      "=================================================================\n",
      "Total params: 279,410\n",
      "Trainable params: 275,410\n",
      "Non-trainable params: 4,000\n",
      "_________________________________________________________________\n"
     ]
    }
   ],
   "source": [
    "model.summary()#查看模型的架构"
   ]
  },
  {
   "cell_type": "markdown",
   "metadata": {},
   "source": [
    "#第一层[none,784] *w(矩阵)+b（偏置） -> [none,300] w.shape[784,300],b=[300]"
   ]
  },
  {
   "cell_type": "markdown",
   "metadata": {},
   "source": [
    "### 回调函数"
   ]
  },
  {
   "cell_type": "code",
   "execution_count": null,
   "metadata": {},
   "outputs": [],
   "source": []
  },
  {
   "cell_type": "code",
   "execution_count": 14,
   "metadata": {},
   "outputs": [
    {
     "name": "stdout",
     "output_type": "stream",
     "text": [
      "Train on 55000 samples, validate on 5000 samples\n",
      "Epoch 1/10\n",
      "55000/55000 [==============================] - 78s 1ms/sample - loss: 1.0578 - accuracy: 0.6315 - val_loss: 0.6221 - val_accuracy: 0.7784\n",
      "Epoch 2/10\n",
      "55000/55000 [==============================] - 68s 1ms/sample - loss: 0.7334 - accuracy: 0.7420 - val_loss: 0.5357 - val_accuracy: 0.8084\n",
      "Epoch 3/10\n",
      "55000/55000 [==============================] - 69s 1ms/sample - loss: 0.6309 - accuracy: 0.7802 - val_loss: 0.4898 - val_accuracy: 0.8262\n",
      "Epoch 4/10\n",
      "55000/55000 [==============================] - 69s 1ms/sample - loss: 0.5678 - accuracy: 0.8036 - val_loss: 0.4308 - val_accuracy: 0.8456\n",
      "Epoch 5/10\n",
      "55000/55000 [==============================] - 69s 1ms/sample - loss: 0.5243 - accuracy: 0.8197 - val_loss: 0.4336 - val_accuracy: 0.8436\n",
      "Epoch 6/10\n",
      "55000/55000 [==============================] - 69s 1ms/sample - loss: 0.4912 - accuracy: 0.8318 - val_loss: 0.4212 - val_accuracy: 0.8534\n",
      "Epoch 7/10\n",
      "55000/55000 [==============================] - 69s 1ms/sample - loss: 0.4681 - accuracy: 0.8367 - val_loss: 0.3971 - val_accuracy: 0.8554\n",
      "Epoch 8/10\n",
      "55000/55000 [==============================] - 69s 1ms/sample - loss: 0.4512 - accuracy: 0.8440 - val_loss: 0.3911 - val_accuracy: 0.8596\n",
      "Epoch 9/10\n",
      "55000/55000 [==============================] - 69s 1ms/sample - loss: 0.4359 - accuracy: 0.8503 - val_loss: 0.4129 - val_accuracy: 0.8480\n",
      "Epoch 10/10\n",
      "55000/55000 [==============================] - 69s 1ms/sample - loss: 0.4273 - accuracy: 0.8516 - val_loss: 0.3832 - val_accuracy: 0.8612\n"
     ]
    }
   ],
   "source": [
    "#Tensorborad， earlystopping， modelcheckpoint\n",
    "logdir = './dnn-bn-callbacks/'\n",
    "if not os.path.exists(logdir):\n",
    "    os.mkdir(logdir)\n",
    "output_model_file = os.path.join(logdir,\"fashion_mnist_model.h5\")\n",
    "\n",
    "callbacks = [\n",
    "    keras.callbacks.TensorBoard(logdir),\n",
    "    keras.callbacks.ModelCheckpoint(output_model_file,save_best_only=True),\n",
    "    keras.callbacks.EarlyStopping(patience=5,min_delta=1e-3),\n",
    "]\n",
    "history = model.fit(x_train_scaled, y_train, epochs=10, \n",
    "                    validation_data=(x_valid_scaled, y_valid),\n",
    "                   callbacks=callbacks)"
   ]
  },
  {
   "cell_type": "code",
   "execution_count": 15,
   "metadata": {},
   "outputs": [
    {
     "data": {
      "image/png": "[encoded data removed]",
      "text/plain": [
       "<Figure size 576x360 with 1 Axes>"
      ]
     },
     "metadata": {
      "needs_background": "light"
     },
     "output_type": "display_data"
    }
   ],
   "source": [
    "def plot_learning_curves(history):\n",
    "    pd.DataFrame(history.history).plot(figsize=(8,5))\n",
    "    plt.grid(True)\n",
    "    plt.gca().set_ylim(0,2)\n",
    "    plt.show()\n",
    "    \n",
    "plot_learning_curves(history)\n",
    "\n",
    "#1.参数多，训练不充分，初期目标函数不发生明显变化\n",
    "#2.梯度消失 ->链式法则 ->复合函数f(g(x))"
   ]
  },
  {
   "cell_type": "code",
   "execution_count": 16,
   "metadata": {
    "code_folding": []
   },
   "outputs": [],
   "source": [
    "#指标评估\n",
    "#model.evaluate(x_test_scaled, y_test)"
   ]
  },
  {
   "cell_type": "code",
   "execution_count": null,
   "metadata": {},
   "outputs": [],
   "source": []
  }
 ],
 "metadata": {
  "kernelspec": {
   "display_name": "Python 3",
   "language": "python",
   "name": "python3"
  },
  "language_info": {
   "codemirror_mode": {
    "name": "ipython",
    "version": 3
   },
   "file_extension": ".py",
   "mimetype": "text/x-python",
   "name": "python",
   "nbconvert_exporter": "python",
   "pygments_lexer": "ipython3",
   "version": "3.7.6"
  },
  "toc": {
   "base_numbering": 1,
   "nav_menu": {},
   "number_sections": true,
   "sideBar": true,
   "skip_h1_title": false,
   "title_cell": "Table of Contents",
   "title_sidebar": "Contents",
   "toc_cell": true,
   "toc_position": {},
   "toc_section_display": true,
   "toc_window_display": false
  },
  "varInspector": {
   "cols": {
    "lenName": 16,
    "lenType": 16,
    "lenVar": 40
   },
   "kernels_config": {
    "python": {
     "delete_cmd_postfix": "",
     "delete_cmd_prefix": "del ",
     "library": "var_list.py",
     "varRefreshCmd": "print(var_dic_list())"
    },
    "r": {
     "delete_cmd_postfix": ") ",
     "delete_cmd_prefix": "rm(",
     "library": "var_list.r",
     "varRefreshCmd": "cat(var_dic_list()) "
    }
   },
   "types_to_exclude": [
    "module",
    "function",
    "builtin_function_or_method",
    "instance",
    "_Feature"
   ],
   "window_display": false
  }
 },
 "nbformat": 4,
 "nbformat_minor": 2
}
