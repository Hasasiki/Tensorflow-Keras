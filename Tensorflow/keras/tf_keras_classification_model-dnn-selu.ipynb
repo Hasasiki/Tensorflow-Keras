{
 "cells": [
  {
   "cell_type": "markdown",
   "metadata": {
    "toc": true
   },
   "source": [
    "<h1>Table of Contents<span class=\"tocSkip\"></span></h1>\n",
    "<div class=\"toc\"><ul class=\"toc-item\"><li><span><a href=\"#数据归一化\" data-toc-modified-id=\"数据归一化-1\"><span class=\"toc-item-num\">1&nbsp;&nbsp;</span>数据归一化</a></span></li><li><span><a href=\"#批归一化实现\" data-toc-modified-id=\"批归一化实现-2\"><span class=\"toc-item-num\">2&nbsp;&nbsp;</span>批归一化实现</a></span></li><li><span><a href=\"#回调函数\" data-toc-modified-id=\"回调函数-3\"><span class=\"toc-item-num\">3&nbsp;&nbsp;</span>回调函数</a></span></li></ul></div>"
   ]
  },
  {
   "cell_type": "code",
   "execution_count": 1,
   "metadata": {
    "code_folding": []
   },
   "outputs": [],
   "source": [
    "import matplotlib as mpl\n",
    "import matplotlib.pyplot as plt\n",
    "%matplotlib inline\n",
    "import numpy as np\n",
    "import sklearn\n",
    "import pandas as pd\n",
    "import os\n",
    "import sys\n",
    "import time\n",
    "import tensorflow as tf\n",
    "\n",
    "from tensorflow import keras"
   ]
  },
  {
   "cell_type": "code",
   "execution_count": 10,
   "metadata": {},
   "outputs": [
    {
     "name": "stdout",
     "output_type": "stream",
     "text": [
      "(5000, 28, 28) (5000,)\n",
      "(55000, 28, 28) (55000,)\n",
      "(10000, 28, 28) (10000,)\n"
     ]
    }
   ],
   "source": [
    "fashion_mnist = keras.datasets.fashion_mnist\n",
    "(x_train_all, y_train_all), (x_test, y_test) = fashion_mnist.load_data()\n",
    "x_valid, x_train = x_train_all[:5000], x_train_all[5000:]\n",
    "y_valid, y_train = y_train_all[:5000], y_train_all[5000:]\n",
    "\n",
    "print(x_valid.shape, y_valid.shape)\n",
    "print(x_train.shape, y_train.shape)\n",
    "print(x_test.shape, y_test.shape)"
   ]
  },
  {
   "cell_type": "markdown",
   "metadata": {},
   "source": [
    "### 数据归一化"
   ]
  },
  {
   "cell_type": "code",
   "execution_count": 3,
   "metadata": {},
   "outputs": [],
   "source": [
    "#x = (x - μ) / std(方差) 符合均值是零，方差是1的正态分布\n",
    "from sklearn.preprocessing import StandardScaler\n",
    "\n",
    "scaler = StandardScaler()\n",
    "#x_train: [None, 28, 28] -> [None, 784]\n",
    "x_train_scaled = scaler.fit_transform(\n",
    "    x_train.astype(np.float32).reshape(-1,1)).reshape(-1,28,28)\n",
    "x_valid_scaled = scaler.transform(\n",
    "    x_valid.astype(np.float32).reshape(-1,1)).reshape(-1,28,28)\n",
    "x_test_scaled = scaler.transform(\n",
    "    x_test.astype(np.float32).reshape(-1,1)).reshape(-1,28,28)"
   ]
  },
  {
   "cell_type": "markdown",
   "metadata": {},
   "source": [
    "### selu激活函数（自带归一化）"
   ]
  },
  {
   "cell_type": "code",
   "execution_count": 4,
   "metadata": {},
   "outputs": [],
   "source": [
    "#tf.keras.models.Sequential()\n",
    "\n",
    "model = keras.models.Sequential()\n",
    "model.add(keras.layers.Flatten(input_shape=[28, 28]))\n",
    "for _ in range(20):\n",
    "    model.add(keras.layers.Dense(100, activation=\"selu\"))\n",
    "    \n",
    "model.add(keras.layers.Dense(10,activation=\"softmax\"))\n",
    "\n",
    "\n",
    "#relu: y = max（0，x)\n",
    "#softmax：将向量变成概率分布 x = [x1, x2, x3]\n",
    "#    y = [e^x1/sum, e^x2/sum, e^x3/sum], sum = e^X1 + e^x2 + e^x3\n",
    "#reason for sparse: y->index. y->one)hot->[]\n",
    "model.compile(loss = \"sparse_categorical_crossentropy\",\n",
    "              optimizer = \"sgd\",\n",
    "              metrics = [\"accuracy\"])"
   ]
  },
  {
   "cell_type": "code",
   "execution_count": 5,
   "metadata": {},
   "outputs": [
    {
     "data": {
      "text/plain": [
       "[<tensorflow.python.keras.layers.core.Flatten at 0x1a061bc8f48>,\n",
       " <tensorflow.python.keras.layers.core.Dense at 0x1a068032688>,\n",
       " <tensorflow.python.keras.layers.core.Dense at 0x1a00a670f48>,\n",
       " <tensorflow.python.keras.layers.core.Dense at 0x1a00a6753c8>,\n",
       " <tensorflow.python.keras.layers.core.Dense at 0x1a00a4dbec8>,\n",
       " <tensorflow.python.keras.layers.core.Dense at 0x1a00a675288>,\n",
       " <tensorflow.python.keras.layers.core.Dense at 0x1a00a697348>,\n",
       " <tensorflow.python.keras.layers.core.Dense at 0x1a00a6a4fc8>,\n",
       " <tensorflow.python.keras.layers.core.Dense at 0x1a00a699cc8>,\n",
       " <tensorflow.python.keras.layers.core.Dense at 0x1a00a6d1148>,\n",
       " <tensorflow.python.keras.layers.core.Dense at 0x1a00a6d1688>,\n",
       " <tensorflow.python.keras.layers.core.Dense at 0x1a00a6acb08>,\n",
       " <tensorflow.python.keras.layers.core.Dense at 0x1a00a6da088>,\n",
       " <tensorflow.python.keras.layers.core.Dense at 0x1a00a6ee148>,\n",
       " <tensorflow.python.keras.layers.core.Dense at 0x1a00a6eecc8>,\n",
       " <tensorflow.python.keras.layers.core.Dense at 0x1a00a6eb808>,\n",
       " <tensorflow.python.keras.layers.core.Dense at 0x1a00a6fe5c8>,\n",
       " <tensorflow.python.keras.layers.core.Dense at 0x1a00a709388>,\n",
       " <tensorflow.python.keras.layers.core.Dense at 0x1a00aa76448>,\n",
       " <tensorflow.python.keras.layers.core.Dense at 0x1a00aa86f88>,\n",
       " <tensorflow.python.keras.layers.core.Dense at 0x1a00aaa0f88>,\n",
       " <tensorflow.python.keras.layers.core.Dense at 0x1a00a679308>]"
      ]
     },
     "execution_count": 5,
     "metadata": {},
     "output_type": "execute_result"
    }
   ],
   "source": [
    "model.layers#查看有多少层"
   ]
  },
  {
   "cell_type": "code",
   "execution_count": 6,
   "metadata": {},
   "outputs": [
    {
     "name": "stdout",
     "output_type": "stream",
     "text": [
      "Model: \"sequential\"\n",
      "_________________________________________________________________\n",
      "Layer (type)                 Output Shape              Param #   \n",
      "=================================================================\n",
      "flatten (Flatten)            (None, 784)               0         \n",
      "_________________________________________________________________\n",
      "dense (Dense)                (None, 100)               78500     \n",
      "_________________________________________________________________\n",
      "dense_1 (Dense)              (None, 100)               10100     \n",
      "_________________________________________________________________\n",
      "dense_2 (Dense)              (None, 100)               10100     \n",
      "_________________________________________________________________\n",
      "dense_3 (Dense)              (None, 100)               10100     \n",
      "_________________________________________________________________\n",
      "dense_4 (Dense)              (None, 100)               10100     \n",
      "_________________________________________________________________\n",
      "dense_5 (Dense)              (None, 100)               10100     \n",
      "_________________________________________________________________\n",
      "dense_6 (Dense)              (None, 100)               10100     \n",
      "_________________________________________________________________\n",
      "dense_7 (Dense)              (None, 100)               10100     \n",
      "_________________________________________________________________\n",
      "dense_8 (Dense)              (None, 100)               10100     \n",
      "_________________________________________________________________\n",
      "dense_9 (Dense)              (None, 100)               10100     \n",
      "_________________________________________________________________\n",
      "dense_10 (Dense)             (None, 100)               10100     \n",
      "_________________________________________________________________\n",
      "dense_11 (Dense)             (None, 100)               10100     \n",
      "_________________________________________________________________\n",
      "dense_12 (Dense)             (None, 100)               10100     \n",
      "_________________________________________________________________\n",
      "dense_13 (Dense)             (None, 100)               10100     \n",
      "_________________________________________________________________\n",
      "dense_14 (Dense)             (None, 100)               10100     \n",
      "_________________________________________________________________\n",
      "dense_15 (Dense)             (None, 100)               10100     \n",
      "_________________________________________________________________\n",
      "dense_16 (Dense)             (None, 100)               10100     \n",
      "_________________________________________________________________\n",
      "dense_17 (Dense)             (None, 100)               10100     \n",
      "_________________________________________________________________\n",
      "dense_18 (Dense)             (None, 100)               10100     \n",
      "_________________________________________________________________\n",
      "dense_19 (Dense)             (None, 100)               10100     \n",
      "_________________________________________________________________\n",
      "dense_20 (Dense)             (None, 10)                1010      \n",
      "=================================================================\n",
      "Total params: 271,410\n",
      "Trainable params: 271,410\n",
      "Non-trainable params: 0\n",
      "_________________________________________________________________\n"
     ]
    }
   ],
   "source": [
    "model.summary()#查看模型的架构"
   ]
  },
  {
   "cell_type": "markdown",
   "metadata": {},
   "source": [
    "#第一层[none,784] *w(矩阵)+b（偏置） -> [none,300] w.shape[784,300],b=[300]"
   ]
  },
  {
   "cell_type": "markdown",
   "metadata": {},
   "source": [
    "### 回调函数"
   ]
  },
  {
   "cell_type": "code",
   "execution_count": null,
   "metadata": {},
   "outputs": [],
   "source": []
  },
  {
   "cell_type": "code",
   "execution_count": 7,
   "metadata": {},
   "outputs": [
    {
     "name": "stdout",
     "output_type": "stream",
     "text": [
      "Train on 55000 samples, validate on 5000 samples\n",
      "Epoch 1/10\n",
      "55000/55000 [==============================] - 14s 247us/sample - loss: 0.5552 - accuracy: 0.8000 - val_loss: 0.4339 - val_accuracy: 0.8390\n",
      "Epoch 2/10\n",
      "55000/55000 [==============================] - 9s 172us/sample - loss: 0.4048 - accuracy: 0.8527 - val_loss: 0.3723 - val_accuracy: 0.8702\n",
      "Epoch 3/10\n",
      "55000/55000 [==============================] - 9s 172us/sample - loss: 0.3592 - accuracy: 0.8687 - val_loss: 0.3670 - val_accuracy: 0.8680\n",
      "Epoch 4/10\n",
      "55000/55000 [==============================] - 10s 175us/sample - loss: 0.3327 - accuracy: 0.8769 - val_loss: 0.3625 - val_accuracy: 0.8722\n",
      "Epoch 5/10\n",
      "55000/55000 [==============================] - 10s 176us/sample - loss: 0.3137 - accuracy: 0.8837 - val_loss: 0.3615 - val_accuracy: 0.8678\n",
      "Epoch 6/10\n",
      "55000/55000 [==============================] - 9s 169us/sample - loss: 0.2969 - accuracy: 0.8907 - val_loss: 0.3245 - val_accuracy: 0.8854\n",
      "Epoch 7/10\n",
      "55000/55000 [==============================] - 9s 168us/sample - loss: 0.2828 - accuracy: 0.8947 - val_loss: 0.3208 - val_accuracy: 0.8868\n",
      "Epoch 8/10\n",
      "55000/55000 [==============================] - 9s 169us/sample - loss: 0.2707 - accuracy: 0.8979 - val_loss: 0.3207 - val_accuracy: 0.8878\n",
      "Epoch 9/10\n",
      "55000/55000 [==============================] - 10s 173us/sample - loss: 0.2592 - accuracy: 0.9036 - val_loss: 0.3284 - val_accuracy: 0.8800\n",
      "Epoch 10/10\n",
      "55000/55000 [==============================] - 10s 175us/sample - loss: 0.2499 - accuracy: 0.9059 - val_loss: 0.3278 - val_accuracy: 0.8868\n"
     ]
    }
   ],
   "source": [
    "#Tensorborad， earlystopping， modelcheckpoint\n",
    "logdir = './dnn-bn-callbacks/'\n",
    "if not os.path.exists(logdir):\n",
    "    os.mkdir(logdir)\n",
    "output_model_file = os.path.join(logdir,\"fashion_mnist_model.h5\")\n",
    "\n",
    "callbacks = [\n",
    "    keras.callbacks.TensorBoard(logdir),\n",
    "    keras.callbacks.ModelCheckpoint(output_model_file,save_best_only=True),\n",
    "    keras.callbacks.EarlyStopping(patience=5,min_delta=1e-3),\n",
    "]\n",
    "history = model.fit(x_train_scaled, y_train, epochs=10, \n",
    "                    validation_data=(x_valid_scaled, y_valid),\n",
    "                   callbacks=callbacks)"
   ]
  },
  {
   "cell_type": "code",
   "execution_count": 8,
   "metadata": {},
   "outputs": [
    {
     "data": {
      "image/png": "[encoded data removed]",
      "text/plain": [
       "<Figure size 576x360 with 1 Axes>"
      ]
     },
     "metadata": {
      "needs_background": "light"
     },
     "output_type": "display_data"
    }
   ],
   "source": [
    "def plot_learning_curves(history):\n",
    "    pd.DataFrame(history.history).plot(figsize=(8,5))\n",
    "    plt.grid(True)\n",
    "    plt.gca().set_ylim(0,2)\n",
    "    plt.show()\n",
    "    \n",
    "plot_learning_curves(history)\n",
    "\n",
    "#1.参数多，训练不充分，初期目标函数不发生明显变化\n",
    "#2.梯度消失 ->链式法则 ->复合函数f(g(x))\n",
    "#3.selu缓解梯度消失"
   ]
  },
  {
   "cell_type": "code",
   "execution_count": 9,
   "metadata": {
    "code_folding": []
   },
   "outputs": [
    {
     "name": "stdout",
     "output_type": "stream",
     "text": [
      "10000/10000 [==============================] - 1s 76us/sample - loss: 0.3648 - accuracy: 0.8728\n"
     ]
    },
    {
     "data": {
      "text/plain": [
       "[0.36476586074829104, 0.8728]"
      ]
     },
     "execution_count": 9,
     "metadata": {},
     "output_type": "execute_result"
    }
   ],
   "source": [
    "#指标评估\n",
    "model.evaluate(x_test_scaled, y_test)"
   ]
  },
  {
   "cell_type": "code",
   "execution_count": null,
   "metadata": {},
   "outputs": [],
   "source": []
  }
 ],
 "metadata": {
  "kernelspec": {
   "display_name": "Python 3",
   "language": "python",
   "name": "python3"
  },
  "language_info": {
   "codemirror_mode": {
    "name": "ipython",
    "version": 3
   },
   "file_extension": ".py",
   "mimetype": "text/x-python",
   "name": "python",
   "nbconvert_exporter": "python",
   "pygments_lexer": "ipython3",
   "version": "3.7.6"
  },
  "toc": {
   "base_numbering": 1,
   "nav_menu": {},
   "number_sections": true,
   "sideBar": true,
   "skip_h1_title": false,
   "title_cell": "Table of Contents",
   "title_sidebar": "Contents",
   "toc_cell": true,
   "toc_position": {},
   "toc_section_display": true,
   "toc_window_display": false
  },
  "varInspector": {
   "cols": {
    "lenName": 16,
    "lenType": 16,
    "lenVar": 40
   },
   "kernels_config": {
    "python": {
     "delete_cmd_postfix": "",
     "delete_cmd_prefix": "del ",
     "library": "var_list.py",
     "varRefreshCmd": "print(var_dic_list())"
    },
    "r": {
     "delete_cmd_postfix": ") ",
     "delete_cmd_prefix": "rm(",
     "library": "var_list.r",
     "varRefreshCmd": "cat(var_dic_list()) "
    }
   },
   "types_to_exclude": [
    "module",
    "function",
    "builtin_function_or_method",
    "instance",
    "_Feature"
   ],
   "window_display": false
  }
 },
 "nbformat": 4,
 "nbformat_minor": 2
}
